{
  "cells": [
    {
      "cell_type": "code",
      "execution_count": 28,
      "metadata": {
        "id": "wglztA6gXOcB"
      },
      "outputs": [],
      "source": [
        "#Michelle Brenes\n",
        "#Laser Rivera\n",
        "#Julio Marin \n",
        "#Mohnish Hemdev\n",
        "#Jayson Morán"
      ]
    },
    {
      "cell_type": "code",
      "execution_count": 29,
      "metadata": {},
      "outputs": [],
      "source": [
        "#pip install pandas\n",
        "#pip install dash\n",
        "#instalar extension live server\n",
        "import requests\n",
        "import dash\n",
        "import dash_core_components as dcc \n",
        "import dash_html_components as html\n",
        "import plotly.express as px\n",
        "import pandas as pd \n",
        "from dash.dependencies import Input,Output\n",
        "import matplotlib.pyplot as plt"
      ]
    },
    {
      "cell_type": "code",
      "execution_count": 30,
      "metadata": {},
      "outputs": [],
      "source": [
        "df = pd.read_csv(\"D:\\PSemestral_Topicos2\\Resumido-por-años.csv\")\n",
        "af=pd.read_csv(\"D:\\PSemestral_Topicos2\\MexicoData.csv\")\n",
        "repo_url = 'https://raw.githubusercontent.com/angelnmara/geojson/master/mexicoHigh.json' #Archivo GeoJSON\n",
        "mx_regions_geo = requests.get(repo_url).json()"
      ]
    },
    {
      "cell_type": "code",
      "execution_count": 31,
      "metadata": {},
      "outputs": [],
      "source": [
        "app = dash.Dash(__name__)"
      ]
    },
    {
      "cell_type": "code",
      "execution_count": 32,
      "metadata": {},
      "outputs": [],
      "source": [
        "app.layout = html.Div([\n",
        "    \n",
        "    html.Div([\n",
        "        html.H1('Movimientos de contenedores en el SPN'),\n",
        "        html.Img(src='assets/contenedor.png')\n",
        "    ], className = 'banner'),\n",
        "\n",
        "    html.Div([\n",
        "        html.Div([\n",
        "            html.P('Selecciona el tiempo', className= 'flix_label', style={'color':'black', 'margin-top': '2px'}),\n",
        "            dcc.RadioItems( id= 'año-radioitem',\n",
        "                            labelStyle={'display': 'inline-block'},\n",
        "                            options=[\n",
        "                                {'label' : 'Local', 'value' : 'Local'},\n",
        "                                {'label' : 'Trasbordo', 'value' : 'PROV_NAME'}\n",
        "                            ], value= 'Año',\n",
        "                            style= {'text-aling' : 'center' , 'color' : 'black'}, className= 'dcc_compon'),\n",
        "        ], className= 'create_container2 five columns', style= {'margin-bottom': '20px'}),\n",
        "        \n",
        "    ], className = 'row flex-display'),\n",
        "\n",
        "    html.Div([\n",
        "        html.Div([\n",
        "            dcc.Graph(id = 'my_graph', figure = {})\n",
        "        ], className= 'create_container2 eight colums'), \n",
        "\n",
        "        html.Div([\n",
        "            dcc.Graph(id = 'mpie_graph', figure = {})\n",
        "        ], className= 'create_container2 five colums'), \n",
        "    ], className='row flex-display'),\n",
        "\n",
        "],id='mainContainer', style= {'display': 'flex', 'flex-direction': 'column'})"
      ]
    },
    {
      "cell_type": "code",
      "execution_count": 33,
      "metadata": {},
      "outputs": [],
      "source": [
        "@app.callback (\n",
        "    Output('my_graph', component_property= 'figure'),\n",
        "    [Input('año-radioitem', component_property='value')]\n",
        ")\n",
        "\n",
        "def update_graph(value):\n",
        "    if value == 'Local':\n",
        "        fig = px.bar(\n",
        "            data_frame=df,\n",
        "            x = 'Puerto',\n",
        "            y = 'Local'\n",
        "        )\n",
        "    else:\n",
        "        fig = px.bar(\n",
        "            data_frame=df,\n",
        "            x = 'PROV_NAME',\n",
        "            y = 'Trasbordo'\n",
        "        )\n",
        "    return fig\n",
        "\n",
        "@app.callback (\n",
        "    Output('mpie_graph', component_property= 'figure'),\n",
        "    [Input('año-radioitem', component_property='value')]\n",
        ")\n",
        "def update_graph(value):\n",
        "    if value == 'Local':\n",
        "        fig = px.choropleth(data_frame=af, \n",
        "                    geojson=mx_regions_geo, \n",
        "                    locations='Estado', # nombre de la columna del Dataframe\n",
        "                    featureidkey='properties.name',  # ruta al campo del archivo GeoJSON con el que se hará la relación (nombre de los estados)\n",
        "                    color='Casos', #El color depende de las cantidades\n",
        "                    color_continuous_scale=\"burg\", #greens\n",
        "                    #scope=\"north america\"\n",
        "                   )\n",
        "        fig.update_geos(showcountries=True, showcoastlines=True, showland=True, fitbounds=\"locations\")\n",
        "    else:\n",
        "        fig = px.choropleth(data_frame=af, \n",
        "                    geojson=mx_regions_geo, \n",
        "                    locations='Estado', # nombre de la columna del Dataframe\n",
        "                    featureidkey='properties.name',  # ruta al campo del archivo GeoJSON con el que se hará la relación (nombre de los estados)\n",
        "                    color='Casos', #El color depende de las cantidades\n",
        "                    color_continuous_scale=\"burg\", #greens\n",
        "                    #scope=\"north america\"\n",
        "                   )\n",
        "        fig.update_geos(showcountries=False, showcoastlines=False, showland=False, fitbounds=\"locations\")\n",
        "    return fig\n",
        "    "
      ]
    },
    {
      "cell_type": "code",
      "execution_count": 34,
      "metadata": {},
      "outputs": [
        {
          "name": "stdout",
          "output_type": "stream",
          "text": [
            "Dash is running on http://127.0.0.1:5003/\n",
            "\n",
            "Dash is running on http://127.0.0.1:5003/\n",
            "\n",
            "Dash is running on http://127.0.0.1:5003/\n",
            "\n",
            "Dash is running on http://127.0.0.1:5003/\n",
            "\n",
            "Dash is running on http://127.0.0.1:5003/\n",
            "\n",
            " * Serving Flask app '__main__' (lazy loading)\n",
            " * Environment: production\n",
            "\u001b[31m   WARNING: This is a development server. Do not use it in a production deployment.\u001b[0m\n",
            "\u001b[2m   Use a production WSGI server instead.\u001b[0m\n",
            " * Debug mode: off\n"
          ]
        },
        {
          "name": "stderr",
          "output_type": "stream",
          "text": [
            " * Running on http://127.0.0.1:5003/ (Press CTRL+C to quit)\n",
            "127.0.0.1 - - [13/Jul/2022 22:53:05] \"GET / HTTP/1.1\" 200 -\n",
            "127.0.0.1 - - [13/Jul/2022 22:53:05] \"GET /assets/s1.css?m=1627386984.0 HTTP/1.1\" 304 -\n",
            "127.0.0.1 - - [13/Jul/2022 22:53:05] \"GET /assets/stylesheet.css?m=1657734382.2705944 HTTP/1.1\" 304 -\n",
            "127.0.0.1 - - [13/Jul/2022 22:53:05] \"GET /_dash-layout HTTP/1.1\" 200 -\n",
            "127.0.0.1 - - [13/Jul/2022 22:53:05] \"GET /_dash-dependencies HTTP/1.1\" 200 -\n",
            "127.0.0.1 - - [13/Jul/2022 22:53:05] \"GET /_favicon.ico?v=2.5.1 HTTP/1.1\" 200 -\n",
            "127.0.0.1 - - [13/Jul/2022 22:53:05] \"GET /assets/contenedor.png HTTP/1.1\" 304 -\n",
            "127.0.0.1 - - [13/Jul/2022 22:53:05] \"GET /_dash-component-suites/dash/dcc/async-graph.js HTTP/1.1\" 200 -\n",
            "127.0.0.1 - - [13/Jul/2022 22:53:05] \"GET /_dash-component-suites/dash/dcc/async-plotlyjs.js HTTP/1.1\" 200 -\n",
            "127.0.0.1 - - [13/Jul/2022 22:53:05] \"POST /_dash-update-component HTTP/1.1\" 200 -\n",
            "127.0.0.1 - - [13/Jul/2022 22:53:06] \"POST /_dash-update-component HTTP/1.1\" 200 -\n",
            "127.0.0.1 - - [13/Jul/2022 22:53:10] \"POST /_dash-update-component HTTP/1.1\" 200 -\n",
            "127.0.0.1 - - [13/Jul/2022 22:53:10] \"POST /_dash-update-component HTTP/1.1\" 200 -\n",
            "127.0.0.1 - - [13/Jul/2022 22:53:11] \"POST /_dash-update-component HTTP/1.1\" 200 -\n",
            "127.0.0.1 - - [13/Jul/2022 22:53:11] \"POST /_dash-update-component HTTP/1.1\" 200 -\n"
          ]
        }
      ],
      "source": [
        "if __name__ == ('__main__'):\n",
        "    app.run_server(port=5003)\n",
        "#df = pd.read_csv(\"D:\\CATALAG\\Archivos Semestral\\PSFC.csv\")\n",
        "#df.head()"
      ]
    },
    {
      "cell_type": "code",
      "execution_count": null,
      "metadata": {},
      "outputs": [
        {
          "ename": "TypeError",
          "evalue": "cannot do positional indexing on RangeIndex with these indexers [Bocas Fruit Co. Mov. De Contenedores Trasbordo] of type str",
          "output_type": "error",
          "traceback": [
            "\u001b[1;31m---------------------------------------------------------------------------\u001b[0m",
            "\u001b[1;31mTypeError\u001b[0m                                 Traceback (most recent call last)",
            "\u001b[1;32md:\\CATALAG\\Archivos Semestral\\Codigo\\SemestralTopicos.ipynb Celda 7\u001b[0m in \u001b[0;36m<cell line: 1>\u001b[1;34m()\u001b[0m\n\u001b[1;32m----> <a href='vscode-notebook-cell:/d%3A/CATALAG/Archivos%20Semestral/Codigo/SemestralTopicos.ipynb#ch0000007?line=0'>1</a>\u001b[0m df\u001b[39m.\u001b[39;49mhead(\u001b[39m\"\u001b[39;49m\u001b[39mBocas Fruit Co. Mov. De Contenedores Trasbordo\u001b[39;49m\u001b[39m\"\u001b[39;49m)\n",
            "File \u001b[1;32mc:\\Users\\jayso\\anaconda3\\envs\\PFT\\lib\\site-packages\\pandas\\core\\generic.py:5222\u001b[0m, in \u001b[0;36mNDFrame.head\u001b[1;34m(self, n)\u001b[0m\n\u001b[0;32m   5151\u001b[0m \u001b[39m@final\u001b[39m\n\u001b[0;32m   5152\u001b[0m \u001b[39mdef\u001b[39;00m \u001b[39mhead\u001b[39m(\u001b[39mself\u001b[39m: NDFrameT, n: \u001b[39mint\u001b[39m \u001b[39m=\u001b[39m \u001b[39m5\u001b[39m) \u001b[39m-\u001b[39m\u001b[39m>\u001b[39m NDFrameT:\n\u001b[0;32m   5153\u001b[0m     \u001b[39m\"\"\"\u001b[39;00m\n\u001b[0;32m   5154\u001b[0m \u001b[39m    Return the first `n` rows.\u001b[39;00m\n\u001b[0;32m   5155\u001b[0m \n\u001b[1;32m   (...)\u001b[0m\n\u001b[0;32m   5220\u001b[0m \u001b[39m    5     parrot\u001b[39;00m\n\u001b[0;32m   5221\u001b[0m \u001b[39m    \"\"\"\u001b[39;00m\n\u001b[1;32m-> 5222\u001b[0m     \u001b[39mreturn\u001b[39;00m \u001b[39mself\u001b[39;49m\u001b[39m.\u001b[39;49miloc[:n]\n",
            "File \u001b[1;32mc:\\Users\\jayso\\anaconda3\\envs\\PFT\\lib\\site-packages\\pandas\\core\\indexing.py:967\u001b[0m, in \u001b[0;36m_LocationIndexer.__getitem__\u001b[1;34m(self, key)\u001b[0m\n\u001b[0;32m    964\u001b[0m axis \u001b[39m=\u001b[39m \u001b[39mself\u001b[39m\u001b[39m.\u001b[39maxis \u001b[39mor\u001b[39;00m \u001b[39m0\u001b[39m\n\u001b[0;32m    966\u001b[0m maybe_callable \u001b[39m=\u001b[39m com\u001b[39m.\u001b[39mapply_if_callable(key, \u001b[39mself\u001b[39m\u001b[39m.\u001b[39mobj)\n\u001b[1;32m--> 967\u001b[0m \u001b[39mreturn\u001b[39;00m \u001b[39mself\u001b[39;49m\u001b[39m.\u001b[39;49m_getitem_axis(maybe_callable, axis\u001b[39m=\u001b[39;49maxis)\n",
            "File \u001b[1;32mc:\\Users\\jayso\\anaconda3\\envs\\PFT\\lib\\site-packages\\pandas\\core\\indexing.py:1497\u001b[0m, in \u001b[0;36m_iLocIndexer._getitem_axis\u001b[1;34m(self, key, axis)\u001b[0m\n\u001b[0;32m   1491\u001b[0m     \u001b[39mraise\u001b[39;00m \u001b[39mIndexError\u001b[39;00m(\n\u001b[0;32m   1492\u001b[0m         \u001b[39m\"\u001b[39m\u001b[39mDataFrame indexer is not allowed for .iloc\u001b[39m\u001b[39m\\n\u001b[39;00m\u001b[39m\"\u001b[39m\n\u001b[0;32m   1493\u001b[0m         \u001b[39m\"\u001b[39m\u001b[39mConsider using .loc for automatic alignment.\u001b[39m\u001b[39m\"\u001b[39m\n\u001b[0;32m   1494\u001b[0m     )\n\u001b[0;32m   1496\u001b[0m \u001b[39mif\u001b[39;00m \u001b[39misinstance\u001b[39m(key, \u001b[39mslice\u001b[39m):\n\u001b[1;32m-> 1497\u001b[0m     \u001b[39mreturn\u001b[39;00m \u001b[39mself\u001b[39;49m\u001b[39m.\u001b[39;49m_get_slice_axis(key, axis\u001b[39m=\u001b[39;49maxis)\n\u001b[0;32m   1499\u001b[0m \u001b[39mif\u001b[39;00m is_iterator(key):\n\u001b[0;32m   1500\u001b[0m     key \u001b[39m=\u001b[39m \u001b[39mlist\u001b[39m(key)\n",
            "File \u001b[1;32mc:\\Users\\jayso\\anaconda3\\envs\\PFT\\lib\\site-packages\\pandas\\core\\indexing.py:1532\u001b[0m, in \u001b[0;36m_iLocIndexer._get_slice_axis\u001b[1;34m(self, slice_obj, axis)\u001b[0m\n\u001b[0;32m   1529\u001b[0m     \u001b[39mreturn\u001b[39;00m obj\u001b[39m.\u001b[39mcopy(deep\u001b[39m=\u001b[39m\u001b[39mFalse\u001b[39;00m)\n\u001b[0;32m   1531\u001b[0m labels \u001b[39m=\u001b[39m obj\u001b[39m.\u001b[39m_get_axis(axis)\n\u001b[1;32m-> 1532\u001b[0m labels\u001b[39m.\u001b[39;49m_validate_positional_slice(slice_obj)\n\u001b[0;32m   1533\u001b[0m \u001b[39mreturn\u001b[39;00m \u001b[39mself\u001b[39m\u001b[39m.\u001b[39mobj\u001b[39m.\u001b[39m_slice(slice_obj, axis\u001b[39m=\u001b[39maxis)\n",
            "File \u001b[1;32mc:\\Users\\jayso\\anaconda3\\envs\\PFT\\lib\\site-packages\\pandas\\core\\indexes\\base.py:4006\u001b[0m, in \u001b[0;36mIndex._validate_positional_slice\u001b[1;34m(self, key)\u001b[0m\n\u001b[0;32m   4001\u001b[0m \u001b[39m\"\"\"\u001b[39;00m\n\u001b[0;32m   4002\u001b[0m \u001b[39mFor positional indexing, a slice must have either int or None\u001b[39;00m\n\u001b[0;32m   4003\u001b[0m \u001b[39mfor each of start, stop, and step.\u001b[39;00m\n\u001b[0;32m   4004\u001b[0m \u001b[39m\"\"\"\u001b[39;00m\n\u001b[0;32m   4005\u001b[0m \u001b[39mself\u001b[39m\u001b[39m.\u001b[39m_validate_indexer(\u001b[39m\"\u001b[39m\u001b[39mpositional\u001b[39m\u001b[39m\"\u001b[39m, key\u001b[39m.\u001b[39mstart, \u001b[39m\"\u001b[39m\u001b[39miloc\u001b[39m\u001b[39m\"\u001b[39m)\n\u001b[1;32m-> 4006\u001b[0m \u001b[39mself\u001b[39;49m\u001b[39m.\u001b[39;49m_validate_indexer(\u001b[39m\"\u001b[39;49m\u001b[39mpositional\u001b[39;49m\u001b[39m\"\u001b[39;49m, key\u001b[39m.\u001b[39;49mstop, \u001b[39m\"\u001b[39;49m\u001b[39miloc\u001b[39;49m\u001b[39m\"\u001b[39;49m)\n\u001b[0;32m   4007\u001b[0m \u001b[39mself\u001b[39m\u001b[39m.\u001b[39m_validate_indexer(\u001b[39m\"\u001b[39m\u001b[39mpositional\u001b[39m\u001b[39m\"\u001b[39m, key\u001b[39m.\u001b[39mstep, \u001b[39m\"\u001b[39m\u001b[39miloc\u001b[39m\u001b[39m\"\u001b[39m)\n",
            "File \u001b[1;32mc:\\Users\\jayso\\anaconda3\\envs\\PFT\\lib\\site-packages\\pandas\\core\\indexes\\base.py:6308\u001b[0m, in \u001b[0;36mIndex._validate_indexer\u001b[1;34m(self, form, key, kind)\u001b[0m\n\u001b[0;32m   6305\u001b[0m \u001b[39massert\u001b[39;00m kind \u001b[39min\u001b[39;00m [\u001b[39m\"\u001b[39m\u001b[39mgetitem\u001b[39m\u001b[39m\"\u001b[39m, \u001b[39m\"\u001b[39m\u001b[39miloc\u001b[39m\u001b[39m\"\u001b[39m]\n\u001b[0;32m   6307\u001b[0m \u001b[39mif\u001b[39;00m key \u001b[39mis\u001b[39;00m \u001b[39mnot\u001b[39;00m \u001b[39mNone\u001b[39;00m \u001b[39mand\u001b[39;00m \u001b[39mnot\u001b[39;00m is_integer(key):\n\u001b[1;32m-> 6308\u001b[0m     \u001b[39mraise\u001b[39;00m \u001b[39mself\u001b[39m\u001b[39m.\u001b[39m_invalid_indexer(form, key)\n",
            "\u001b[1;31mTypeError\u001b[0m: cannot do positional indexing on RangeIndex with these indexers [Bocas Fruit Co. Mov. De Contenedores Trasbordo] of type str"
          ]
        }
      ],
      "source": [
        "df.head(\"Bocas Fruit Co. Mov. De Contenedores Trasbordo\")"
      ]
    },
    {
      "cell_type": "code",
      "execution_count": null,
      "metadata": {},
      "outputs": [],
      "source": [
        "fig,ax=plt.subplots(figsize=(10,10))\n",
        "ax.set_title('Provincias de Panama',pad = 20)\n",
        "df.plot(column=\"name_1\",cmap = \"autumn_r\",ax=ax,zorder = 100)"
      ]
    },
    {
      "cell_type": "code",
      "execution_count": null,
      "metadata": {},
      "outputs": [
        {
          "name": "stdout",
          "output_type": "stream",
          "text": [
            "Dash is running on http://127.0.0.1:5003/\n",
            "\n",
            " * Serving Flask app '__main__' (lazy loading)\n",
            " * Environment: production\n",
            "\u001b[31m   WARNING: This is a development server. Do not use it in a production deployment.\u001b[0m\n",
            "\u001b[2m   Use a production WSGI server instead.\u001b[0m\n",
            " * Debug mode: off\n"
          ]
        },
        {
          "name": "stderr",
          "output_type": "stream",
          "text": [
            " * Running on http://127.0.0.1:5003/ (Press CTRL+C to quit)\n",
            "127.0.0.1 - - [13/Jul/2022 12:12:20] \"GET / HTTP/1.1\" 200 -\n",
            "127.0.0.1 - - [13/Jul/2022 12:12:20] \"GET /_dash-component-suites/dash/deps/polyfill@7.v2_5_1m1657670236.12.1.min.js HTTP/1.1\" 200 -\n",
            "127.0.0.1 - - [13/Jul/2022 12:12:20] \"GET /_dash-component-suites/dash/deps/react@16.v2_5_1m1657670236.14.0.min.js HTTP/1.1\" 200 -\n",
            "127.0.0.1 - - [13/Jul/2022 12:12:20] \"GET /_dash-component-suites/dash/deps/prop-types@15.v2_5_1m1657670236.8.1.min.js HTTP/1.1\" 200 -\n",
            "127.0.0.1 - - [13/Jul/2022 12:12:20] \"GET /_dash-component-suites/dash/deps/react-dom@16.v2_5_1m1657670236.14.0.min.js HTTP/1.1\" 200 -\n",
            "127.0.0.1 - - [13/Jul/2022 12:12:20] \"GET /_dash-component-suites/dash/dash-renderer/build/dash_renderer.v2_5_1m1657670236.min.js HTTP/1.1\" 200 -\n",
            "127.0.0.1 - - [13/Jul/2022 12:12:20] \"GET /_dash-component-suites/dash/dcc/dash_core_components.v2_5_0m1657670236.js HTTP/1.1\" 200 -\n",
            "127.0.0.1 - - [13/Jul/2022 12:12:20] \"GET /_dash-component-suites/dash/html/dash_html_components.v2_0_3m1657670236.min.js HTTP/1.1\" 200 -\n",
            "127.0.0.1 - - [13/Jul/2022 12:12:20] \"GET /_dash-component-suites/dash/dcc/dash_core_components-shared.v2_5_0m1657670236.js HTTP/1.1\" 200 -\n",
            "127.0.0.1 - - [13/Jul/2022 12:12:20] \"GET /_dash-component-suites/dash/dash_table/bundle.v5_1_3m1657670236.js HTTP/1.1\" 200 -\n",
            "127.0.0.1 - - [13/Jul/2022 12:12:20] \"GET /_dash-layout HTTP/1.1\" 200 -\n",
            "127.0.0.1 - - [13/Jul/2022 12:12:20] \"GET /_dash-dependencies HTTP/1.1\" 200 -\n",
            "127.0.0.1 - - [13/Jul/2022 12:12:20] \"GET /_favicon.ico?v=2.5.1 HTTP/1.1\" 200 -\n"
          ]
        }
      ],
      "source": []
    }
  ],
  "metadata": {
    "colab": {
      "name": "Problema_4.ipynb",
      "provenance": []
    },
    "kernelspec": {
      "display_name": "Python 3.9.7 ('PFT')",
      "language": "python",
      "name": "python3"
    },
    "language_info": {
      "codemirror_mode": {
        "name": "ipython",
        "version": 3
      },
      "file_extension": ".py",
      "mimetype": "text/x-python",
      "name": "python",
      "nbconvert_exporter": "python",
      "pygments_lexer": "ipython3",
      "version": "3.9.7"
    },
    "vscode": {
      "interpreter": {
        "hash": "63b1c40a7ac4dbfdbb2ab7d022cd1f4b189732548a05b441943d353f5bc756d2"
      }
    }
  },
  "nbformat": 4,
  "nbformat_minor": 0
}
